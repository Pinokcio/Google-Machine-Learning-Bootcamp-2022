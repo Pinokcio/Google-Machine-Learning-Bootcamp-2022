{
  "cells": [
    {
      "cell_type": "markdown",
      "metadata": {
        "id": "view-in-github",
        "colab_type": "text"
      },
      "source": [
        "<a href=\"https://colab.research.google.com/github/Pinokcio/Google-Machine-Learning-Bootcamp-2022/blob/main/Paddy_disease_prediction.ipynb\" target=\"_parent\"><img src=\"https://colab.research.google.com/assets/colab-badge.svg\" alt=\"Open In Colab\"/></a>"
      ]
    },
    {
      "cell_type": "code",
      "execution_count": null,
      "metadata": {
        "id": "MUMm9NBCJa3M"
      },
      "outputs": [],
      "source": [
        "\"\"\"import zipfile\n",
        "with zipfile.ZipFile('/content/drive/MyDrive/Paddy_Disease_Classification/paddy-disease-classification.zip', 'r') as zip_ref:\n",
        "    zip_ref.extractall('/content/drive/MyDrive/Paddy_Disease_Classification/')\"\"\""
      ]
    },
    {
      "cell_type": "code",
      "execution_count": null,
      "metadata": {
        "colab": {
          "base_uri": "https://localhost:8080/",
          "height": 72
        },
        "id": "rnN_EEPugP82",
        "outputId": "e6a069a0-9f42-46ef-f406-e7f8e4486d00"
      },
      "outputs": [
        {
          "output_type": "stream",
          "name": "stdout",
          "text": [
            "Found 10407 images belonging to 10 classes.\n"
          ]
        },
        {
          "output_type": "execute_result",
          "data": {
            "text/plain": [
              "\"validation_generator = train_datagen.flow_from_directory(\\n        '/content/drive/MyDrive/Paddy_Disease_Classification/train_images', \\n        target_size=(image_size1, image_size2),  \\n        batch_size=batch,\\n        class_mode='categorical',\\n        subset = 'validation')\""
            ],
            "application/vnd.google.colaboratory.intrinsic+json": {
              "type": "string"
            }
          },
          "metadata": {},
          "execution_count": 1
        }
      ],
      "source": [
        "import csv\n",
        "import tensorflow as tf\n",
        "from tensorflow.keras.preprocessing.image import ImageDataGenerator\n",
        "import tensorflow.keras.layers as layers\n",
        "import tensorflow.keras.optimizers as optimizers\n",
        "import tensorflow.keras.losses as losses\n",
        "from tensorflow.keras.callbacks import *\n",
        "tf.random.set_seed(777)\n",
        "\n",
        "batch = 32\n",
        "epoch = 30\n",
        "image_size1 = 224\n",
        "image_size2 = 224\n",
        "lr = 1e-5\n",
        "\n",
        "train_datagen = ImageDataGenerator(rescale = 1./255,\n",
        "                                   rotation_range=20, #최대 20도까지 이미지를 회전시킨다.\n",
        "                                   #width_shift_range=0.2, #수직방향으로 최대 20% 움직인다.\n",
        "                                   #height_shift_range=0.2, #수평방향으로 최대 20% 움직인다.\n",
        "                                   shear_range=0.2, #이미지를 최대 20% 자른다.\n",
        "                                   zoom_range=0.2, #이미지를 최대 20% 확대한다.\n",
        "                                   #horizontal_flip=True, #이미지가 임의로 좌우로 뒤집힌다.\n",
        "                                   fill_mode = 'nearest' #손실되어있는 픽셀들을 주변값을 이용해 임의로 채운다.\n",
        "                                   #validation_split=0.2\n",
        "                                   )\n",
        "\n",
        "train_generator = train_datagen.flow_from_directory(\n",
        "        '/content/drive/MyDrive/Paddy_Disease_Classification/train_images', \n",
        "        target_size=(image_size1, image_size2),  \n",
        "        batch_size=batch,\n",
        "        class_mode='categorical')\n",
        "        #subset = 'training')\n",
        "\n",
        "\"\"\"validation_generator = train_datagen.flow_from_directory(\n",
        "        '/content/drive/MyDrive/Paddy_Disease_Classification/train_images', \n",
        "        target_size=(image_size1, image_size2),  \n",
        "        batch_size=batch,\n",
        "        class_mode='categorical',\n",
        "        subset = 'validation')\"\"\"\n",
        "\n",
        "#check_point = ModelCheckpoint(filepath='./{epoch}-{val_loss:.2f}-{val_accuracy:.2f}.h5', monitor='val_loss', save_best_only = True, verbose=1)\n",
        "#early_stopping = EarlyStopping(monitor='val_loss', patience=5)"
      ]
    },
    {
      "cell_type": "code",
      "execution_count": null,
      "metadata": {
        "id": "OKpYwYc-dpBA"
      },
      "outputs": [],
      "source": [
        "import sys\n",
        "sys.path.append('/content/drive/MyDrive/Paddy_Disease_Classification')\n",
        "\n",
        "from swintransformer import SwinTransformer\n",
        "\n",
        "model_swin_large_224 = tf.keras.Sequential([\n",
        "  tf.keras.layers.Lambda(lambda data: tf.keras.applications.imagenet_utils.preprocess_input(tf.cast(data, tf.float32), mode=\"torch\"), input_shape=[image_size1, image_size2, 3]),\n",
        "  SwinTransformer('swin_large_224', include_top=False, pretrained=True),\n",
        "  tf.keras.layers.Dense(10, activation='softmax')\n",
        "])\n",
        "model_swin_large_224.compile(optimizer = optimizers.Adam(learning_rate=lr), \n",
        "              loss = 'categorical_crossentropy',\n",
        "              metrics = ['accuracy'])\n",
        "\n",
        "with tf.device('/device:GPU:0'):\n",
        "  history = model_swin_large_224.fit(\n",
        "      train_generator,\n",
        "      epochs = 15)"
      ]
    },
    {
      "cell_type": "code",
      "source": [
        "import sys\n",
        "sys.path.append('/content/drive/MyDrive/Paddy_Disease_Classification')\n",
        "\n",
        "from swintransformer import SwinTransformer\n",
        "\n",
        "model_swin_tiny_224 = tf.keras.Sequential([\n",
        "  tf.keras.layers.Lambda(lambda data: tf.keras.applications.imagenet_utils.preprocess_input(tf.cast(data, tf.float32), mode=\"torch\"), input_shape=[image_size1, image_size2, 3]),\n",
        "  SwinTransformer('swin_tiny_224', include_top=False, pretrained=True),\n",
        "  tf.keras.layers.Dense(10, activation='softmax')\n",
        "])\n",
        "model_swin_tiny_224.compile(optimizer = optimizers.Adam(learning_rate=lr), \n",
        "              loss = 'categorical_crossentropy',\n",
        "              metrics = ['accuracy'])\n",
        "\n",
        "\"\"\"with tf.device('/device:GPU:0'):\n",
        "  history = model_swin_tiny_224.fit(\n",
        "      train_generator,\n",
        "      epochs = epoch)\"\"\""
      ],
      "metadata": {
        "colab": {
          "base_uri": "https://localhost:8080/",
          "height": 35
        },
        "id": "ZAK99iD6lg85",
        "outputId": "a7454cd8-9678-4afe-b996-3826ec85d3b4"
      },
      "execution_count": null,
      "outputs": [
        {
          "output_type": "execute_result",
          "data": {
            "text/plain": [
              "\"with tf.device('/device:GPU:0'):\\n  history = model_swin_tiny_224.fit(\\n      train_generator,\\n      epochs = epoch)\""
            ],
            "application/vnd.google.colaboratory.intrinsic+json": {
              "type": "string"
            }
          },
          "metadata": {},
          "execution_count": 72
        }
      ]
    },
    {
      "cell_type": "code",
      "source": [
        "model_swin_large_224.load_weights('/content/drive/MyDrive/Paddy_Disease_Classification/swinL224_30_aug')"
      ],
      "metadata": {
        "id": "Iir7HWeRt08E",
        "colab": {
          "base_uri": "https://localhost:8080/"
        },
        "outputId": "fff74043-a8a5-4719-860b-1bad0ebccc7e"
      },
      "execution_count": null,
      "outputs": [
        {
          "output_type": "execute_result",
          "data": {
            "text/plain": [
              "<tensorflow.python.training.tracking.util.CheckpointLoadStatus at 0x7fef70b3d910>"
            ]
          },
          "metadata": {},
          "execution_count": 75
        }
      ]
    },
    {
      "cell_type": "code",
      "source": [
        "model_swin_tiny_224.load_weights('/content/drive/MyDrive/Paddy_Disease_Classification/swinT_30_aug')"
      ],
      "metadata": {
        "colab": {
          "base_uri": "https://localhost:8080/"
        },
        "id": "rRZtD_vDlmAX",
        "outputId": "c5ca04a5-ab05-4f02-e42b-e859cba08ace"
      },
      "execution_count": null,
      "outputs": [
        {
          "output_type": "execute_result",
          "data": {
            "text/plain": [
              "<tensorflow.python.training.tracking.util.CheckpointLoadStatus at 0x7fef79e13990>"
            ]
          },
          "metadata": {},
          "execution_count": 73
        }
      ]
    },
    {
      "cell_type": "code",
      "execution_count": null,
      "metadata": {
        "id": "r_N6Q8AgsxLp"
      },
      "outputs": [],
      "source": [
        "\"\"\"from tensorflow.keras.applications.efficientnet import EfficientNetB4\n",
        "\n",
        "pre_trained_model = EfficientNetB4(input_shape = (image_size1, image_size2, 3),\n",
        "                                  include_top = False)\n",
        "\"\"\""
      ]
    },
    {
      "cell_type": "code",
      "source": [
        "from tensorflow.keras.applications.efficientnet import EfficientNetB2  \n",
        "\n",
        "pre_trained_model = EfficientNetB2(input_shape = (260, 260, 3),\n",
        "                                  include_top = False)"
      ],
      "metadata": {
        "id": "pDN3wIWkoHkE"
      },
      "execution_count": null,
      "outputs": []
    },
    {
      "cell_type": "code",
      "execution_count": null,
      "metadata": {
        "id": "hYBKWYLVncwL",
        "colab": {
          "base_uri": "https://localhost:8080/",
          "height": 166
        },
        "outputId": "fe928d04-8c3d-418a-b85a-458bb1082d2a"
      },
      "outputs": [
        {
          "output_type": "stream",
          "name": "stderr",
          "text": [
            "WARNING:tensorflow:Detecting that an object or model or tf.train.Checkpoint is being deleted with unrestored values. See the following logs for the specific values in question. To silence these warnings, use `status.expect_partial()`. See https://www.tensorflow.org/api_docs/python/tf/train/Checkpoint#restorefor details about the status object returned by the restore function.\n",
            "WARNING:tensorflow:Value in checkpoint could not be found in the restored object: (root).optimizer.iter\n",
            "WARNING:tensorflow:Value in checkpoint could not be found in the restored object: (root).optimizer.beta_1\n",
            "WARNING:tensorflow:Value in checkpoint could not be found in the restored object: (root).optimizer.beta_2\n",
            "WARNING:tensorflow:Value in checkpoint could not be found in the restored object: (root).optimizer.decay\n",
            "WARNING:tensorflow:Value in checkpoint could not be found in the restored object: (root).optimizer.learning_rate\n"
          ]
        },
        {
          "output_type": "execute_result",
          "data": {
            "text/plain": [
              "\"effieNetB2 = create_final_model(pre_trained_model, last_output)\\nwith tf.device('/device:GPU:0'):\\n  history = effieNetB2.fit(\\n      train_generator,\\n      epochs = epoch)\""
            ],
            "application/vnd.google.colaboratory.intrinsic+json": {
              "type": "string"
            }
          },
          "metadata": {},
          "execution_count": 92
        }
      ],
      "source": [
        "def output_of_last_layer(pre_trained_model):\n",
        "  last_desired_layer = pre_trained_model.get_layer('top_activation')\n",
        "  last_output = last_desired_layer.output\n",
        "\n",
        "  return last_output\n",
        "\n",
        "def create_final_model(pre_trained_model, last_output):\n",
        "  x = layers.GlobalAveragePooling2D()(last_output)\n",
        "  x = layers.Dropout(0.2)(x)\n",
        "  x = layers.Dense(10, activation='softmax')(x)\n",
        "\n",
        "  model = tf.keras.models.Model(pre_trained_model.input, x)\n",
        "\n",
        "  model.compile(optimizer = optimizers.Adam(learning_rate=lr), \n",
        "                loss = 'categorical_crossentropy',\n",
        "                metrics = ['accuracy'])\n",
        "  \n",
        "  return model\n",
        "\n",
        "\n",
        "last_output = output_of_last_layer(pre_trained_model)\n",
        "effieNetB2_t = create_final_model(pre_trained_model, last_output)\n",
        "effieNetB2_t.load_weights('/content/drive/MyDrive/Paddy_Disease_Classification/efficientNetB2_96_aug')\n",
        "\n",
        "\"\"\"effieNetB2 = create_final_model(pre_trained_model, last_output)\n",
        "with tf.device('/device:GPU:0'):\n",
        "  history = effieNetB2.fit(\n",
        "      train_generator,\n",
        "      epochs = epoch)\"\"\""
      ]
    },
    {
      "cell_type": "code",
      "source": [
        "with tf.device('/device:GPU:0'):\n",
        "  history = effieNetB2.fit(\n",
        "      train_generator,\n",
        "      epochs = epoch,\n",
        "      initial_epoch=8)"
      ],
      "metadata": {
        "colab": {
          "base_uri": "https://localhost:8080/"
        },
        "id": "zwoZsReZJB3i",
        "outputId": "d36c7adb-9073-43e5-fe2f-364dd40e0ed4"
      },
      "execution_count": null,
      "outputs": [
        {
          "output_type": "stream",
          "name": "stdout",
          "text": [
            "Epoch 9/25\n",
            "434/434 [==============================] - 227s 521ms/step - loss: 0.5285 - accuracy: 0.8368\n",
            "Epoch 10/25\n",
            "434/434 [==============================] - 229s 526ms/step - loss: 0.4837 - accuracy: 0.8515\n",
            "Epoch 11/25\n",
            "434/434 [==============================] - 229s 527ms/step - loss: 0.4302 - accuracy: 0.8648\n",
            "Epoch 12/25\n",
            "434/434 [==============================] - 229s 526ms/step - loss: 0.3865 - accuracy: 0.8830\n",
            "Epoch 13/25\n",
            "434/434 [==============================] - 229s 527ms/step - loss: 0.3449 - accuracy: 0.8952\n",
            "Epoch 14/25\n",
            "434/434 [==============================] - 229s 526ms/step - loss: 0.3178 - accuracy: 0.9042\n",
            "Epoch 15/25\n",
            "434/434 [==============================] - 229s 527ms/step - loss: 0.2874 - accuracy: 0.9116\n",
            "Epoch 16/25\n",
            "434/434 [==============================] - 229s 527ms/step - loss: 0.2601 - accuracy: 0.9198\n",
            "Epoch 17/25\n",
            "434/434 [==============================] - 229s 527ms/step - loss: 0.2425 - accuracy: 0.9284\n",
            "Epoch 18/25\n",
            "434/434 [==============================] - 229s 527ms/step - loss: 0.2238 - accuracy: 0.9341\n",
            "Epoch 19/25\n",
            "434/434 [==============================] - 229s 527ms/step - loss: 0.2034 - accuracy: 0.9393\n",
            "Epoch 20/25\n",
            "434/434 [==============================] - 229s 526ms/step - loss: 0.1953 - accuracy: 0.9425\n",
            "Epoch 21/25\n",
            "434/434 [==============================] - 229s 528ms/step - loss: 0.1787 - accuracy: 0.9442\n",
            "Epoch 22/25\n",
            "434/434 [==============================] - 229s 526ms/step - loss: 0.1626 - accuracy: 0.9521\n",
            "Epoch 23/25\n",
            "434/434 [==============================] - 229s 526ms/step - loss: 0.1554 - accuracy: 0.9522\n",
            "Epoch 24/25\n",
            "434/434 [==============================] - 229s 526ms/step - loss: 0.1413 - accuracy: 0.9600\n",
            "Epoch 25/25\n",
            "434/434 [==============================] - 229s 527ms/step - loss: 0.1331 - accuracy: 0.9602\n"
          ]
        }
      ]
    },
    {
      "cell_type": "code",
      "source": [
        "with tf.device('/device:GPU:0'):\n",
        "  history = effieNetB2.fit(\n",
        "      train_generator,\n",
        "      epochs = 30,\n",
        "      initial_epoch=25)"
      ],
      "metadata": {
        "colab": {
          "base_uri": "https://localhost:8080/"
        },
        "id": "ALlolmwxYE9p",
        "outputId": "5330a405-c379-4eab-aea5-97e199c09a20"
      },
      "execution_count": null,
      "outputs": [
        {
          "output_type": "stream",
          "name": "stdout",
          "text": [
            "Epoch 26/30\n",
            "434/434 [==============================] - 227s 521ms/step - loss: 0.1237 - accuracy: 0.9631\n",
            "Epoch 27/30\n",
            "434/434 [==============================] - 228s 524ms/step - loss: 0.1179 - accuracy: 0.9650\n",
            "Epoch 28/30\n",
            "434/434 [==============================] - 228s 524ms/step - loss: 0.1139 - accuracy: 0.9656\n",
            "Epoch 29/30\n",
            "434/434 [==============================] - 228s 525ms/step - loss: 0.1023 - accuracy: 0.9708\n",
            "Epoch 30/30\n",
            "434/434 [==============================] - 228s 525ms/step - loss: 0.1004 - accuracy: 0.9697\n"
          ]
        }
      ]
    },
    {
      "cell_type": "code",
      "source": [
        "with tf.device('/device:GPU:0'):\n",
        "  history = effieNetB2.fit(\n",
        "      train_generator,\n",
        "      epochs = 32,\n",
        "      initial_epoch=31)"
      ],
      "metadata": {
        "id": "c1n1I29UjWLt"
      },
      "execution_count": null,
      "outputs": []
    },
    {
      "cell_type": "code",
      "source": [
        "\"\"\"effieNetB2_t = create_final_model(pre_trained_model, last_output)\n",
        "effieNetB2_t.load_weights('/content/drive/MyDrive/Paddy_Disease_Classification/efficientNetB2_96_aug')\"\"\""
      ],
      "metadata": {
        "id": "KdyZ351EiI3d"
      },
      "execution_count": null,
      "outputs": []
    },
    {
      "cell_type": "code",
      "source": [
        "from tensorflow.keras.applications.efficientnet_v2 import EfficientNetV2L  \n",
        "\n",
        "pre_trained_model1 = EfficientNetV2L(input_shape = (image_size1, image_size2, 3),\n",
        "                                  include_top = False)\n",
        "\n",
        "def output_of_last_layer(pre_trained_model):\n",
        "  last_desired_layer = pre_trained_model.get_layer('top_activation')\n",
        "  last_output = last_desired_layer.output\n",
        "\n",
        "  return last_output\n",
        "\n",
        "def create_final_model(pre_trained_model, last_output):\n",
        "  x = layers.GlobalAveragePooling2D()(last_output)\n",
        "  x = layers.Dropout(0.2)(x)\n",
        "  x = layers.Dense(10, activation='softmax')(x)\n",
        "\n",
        "  model = tf.keras.models.Model(pre_trained_model.input, x)\n",
        "\n",
        "  model.compile(optimizer = optimizers.Adam(learning_rate=lr), \n",
        "                loss = 'categorical_crossentropy',\n",
        "                metrics = ['accuracy'])\n",
        "  \n",
        "  return model\n",
        "\n",
        "\n",
        "last_output = output_of_last_layer(pre_trained_model1)\n",
        "effieNetV2L_t = create_final_model(pre_trained_model1, last_output)\n",
        "effieNetV2L_t.load_weights('/content/drive/MyDrive/Paddy_Disease_Classification/efficientNetv2L_97_aug')\n",
        "\"\"\"effieNetV2L = create_final_model(pre_trained_model1, last_output)\n",
        "\n",
        "with tf.device('/device:GPU:0'):\n",
        "  history = effieNetV2L.fit(\n",
        "      train_generator,\n",
        "      epochs = epoch)\"\"\"\n",
        "  \n",
        "#effieNetV2L.load_weights('/content/drive/MyDrive/Paddy_Disease_Classification/efficientNetv2L_97_aug')"
      ],
      "metadata": {
        "colab": {
          "base_uri": "https://localhost:8080/",
          "height": 35
        },
        "id": "fywB8D6jiQ1X",
        "outputId": "43da861e-683a-4728-f49c-a3e6761f7358"
      },
      "execution_count": null,
      "outputs": [
        {
          "output_type": "execute_result",
          "data": {
            "text/plain": [
              "\"effieNetV2L = create_final_model(pre_trained_model1, last_output)\\n\\nwith tf.device('/device:GPU:0'):\\n  history = effieNetV2L.fit(\\n      train_generator,\\n      epochs = epoch)\""
            ],
            "application/vnd.google.colaboratory.intrinsic+json": {
              "type": "string"
            }
          },
          "metadata": {},
          "execution_count": 90
        }
      ]
    },
    {
      "cell_type": "code",
      "source": [
        "effieNetV2L = tf.keras.models.load_model('/content/drive/MyDrive/Paddy_Disease_Classification/effieNetV2L.h5')"
      ],
      "metadata": {
        "id": "AWtG5laHIQ1g"
      },
      "execution_count": null,
      "outputs": []
    },
    {
      "cell_type": "code",
      "source": [
        "\"\"\"effieNetV2L.save('/content/drive/MyDrive/Paddy_Disease_Classification/effieNetV2L.h5')\n",
        "effieNetB2.save('/content/drive/MyDrive/Paddy_Disease_Classification/effieNetB2.h5')\"\"\""
      ],
      "metadata": {
        "id": "9fgzvpu9AnXu"
      },
      "execution_count": null,
      "outputs": []
    },
    {
      "cell_type": "code",
      "source": [
        "\"\"\"model.load_weights('/content/46-0.15-0.96.h5')\n",
        "model.save_weights('/content/drive/MyDrive/Paddy_Disease_Classification/efficientNetB2_96_aug')\"\"\""
      ],
      "metadata": {
        "id": "OREkrM9NumUj"
      },
      "execution_count": null,
      "outputs": []
    },
    {
      "cell_type": "code",
      "execution_count": null,
      "metadata": {
        "colab": {
          "base_uri": "https://localhost:8080/"
        },
        "id": "V25FXF7TlIXO",
        "outputId": "b6df1379-1194-4d22-b3dc-9e8bc991f6ea"
      },
      "outputs": [
        {
          "output_type": "stream",
          "name": "stdout",
          "text": [
            "Found 3469 images belonging to 1 classes.\n"
          ]
        }
      ],
      "source": [
        "test_datagen = ImageDataGenerator(rescale = 1./255)\n",
        "\n",
        "test_generator = test_datagen.flow_from_directory(\n",
        "        '/content/drive/MyDrive/Paddy_Disease_Classification/test_images', \n",
        "        target_size=(image_size1, image_size2),  \n",
        "        batch_size=batch,\n",
        "        class_mode='categorical',\n",
        "        shuffle=False)\n",
        "#predict = model.predict(test_generator)"
      ]
    },
    {
      "cell_type": "code",
      "source": [
        "import numpy as np\n",
        "tta_steps = 5\n",
        "predictions1 = []\n",
        "\n",
        "for i in range(tta_steps):\n",
        "\t# generator 초기화\n",
        "    test_generator.reset()\n",
        "    \n",
        "    preds1 = model_swin_large_224.predict_generator(generator = test_generator, verbose = 1)\n",
        "    predictions1.append(preds1)\n",
        "\n",
        "# 평균을 통한 final prediction\n",
        "pred1 = np.mean(predictions1, axis=0)"
      ],
      "metadata": {
        "id": "7LKYM-zuyz8z"
      },
      "execution_count": null,
      "outputs": []
    },
    {
      "cell_type": "code",
      "source": [
        "predictions2 = []\n",
        "\n",
        "for i in range(tta_steps):\n",
        "\t# generator 초기화\n",
        "    test_generator.reset()\n",
        "    \n",
        "    preds2 = effieNetB2.predict_generator(generator = test_generator, verbose = 1)\n",
        "    predictions2.append(preds2)\n",
        "\n",
        "# 평균을 통한 final prediction\n",
        "pred2 = np.mean(predictions2, axis=0)"
      ],
      "metadata": {
        "id": "S0eh2L-Ly7nQ"
      },
      "execution_count": null,
      "outputs": []
    },
    {
      "cell_type": "code",
      "source": [
        "predictions3 = []\n",
        "\n",
        "for i in range(tta_steps):\n",
        "\t# generator 초기화\n",
        "    test_generator.reset()\n",
        "    \n",
        "    preds3 = effieNetV2L.predict_generator(generator = test_generator, verbose = 1)\n",
        "    predictions3.append(preds3)\n",
        "\n",
        "# 평균을 통한 final prediction\n",
        "pred3 = np.mean(predictions3, axis=0)"
      ],
      "metadata": {
        "id": "y7IbRuswy7iI"
      },
      "execution_count": null,
      "outputs": []
    },
    {
      "cell_type": "code",
      "source": [
        "import sys\n",
        "sys.path.append('/content/drive/MyDrive/Paddy_Disease_Classification')\n",
        "\n",
        "from swintransformer import SwinTransformer\n",
        "\n",
        "model_swin_tiny_224_t = tf.keras.Sequential([\n",
        "  tf.keras.layers.Lambda(lambda data: tf.keras.applications.imagenet_utils.preprocess_input(tf.cast(data, tf.float32), mode=\"torch\"), input_shape=[image_size1, image_size2, 3]),\n",
        "  SwinTransformer('swin_tiny_224', include_top=False, pretrained=True),\n",
        "  tf.keras.layers.Dense(10, activation='softmax')\n",
        "])\n",
        "model_swin_tiny_224_t.compile(optimizer = optimizers.Adam(learning_rate=lr), \n",
        "              loss = 'categorical_crossentropy',\n",
        "              metrics = ['accuracy'])\n",
        "\n",
        "with tf.device('/device:GPU:0'):\n",
        "  history = model_swin_tiny_224_t.fit(\n",
        "      train_generator,\n",
        "      epochs = epoch)"
      ],
      "metadata": {
        "colab": {
          "base_uri": "https://localhost:8080/"
        },
        "id": "_F_BWSSozTDz",
        "outputId": "77fc4243-bcd3-49bc-84ac-4b30ad3b8812"
      },
      "execution_count": null,
      "outputs": [
        {
          "output_type": "stream",
          "name": "stdout",
          "text": [
            "Epoch 1/30\n",
            "326/326 [==============================] - 220s 612ms/step - loss: 2.0686 - accuracy: 0.2485\n",
            "Epoch 2/30\n",
            "326/326 [==============================] - 207s 632ms/step - loss: 1.4298 - accuracy: 0.5122\n",
            "Epoch 3/30\n",
            "326/326 [==============================] - 207s 634ms/step - loss: 0.9460 - accuracy: 0.6855\n",
            "Epoch 4/30\n",
            "326/326 [==============================] - 207s 633ms/step - loss: 0.7172 - accuracy: 0.7625\n",
            "Epoch 5/30\n",
            "326/326 [==============================] - 207s 634ms/step - loss: 0.5503 - accuracy: 0.8224\n",
            "Epoch 6/30\n",
            "326/326 [==============================] - 207s 634ms/step - loss: 0.4730 - accuracy: 0.8421\n",
            "Epoch 7/30\n",
            "326/326 [==============================] - 207s 633ms/step - loss: 0.4000 - accuracy: 0.8681\n",
            "Epoch 8/30\n",
            "326/326 [==============================] - 207s 633ms/step - loss: 0.3303 - accuracy: 0.8907\n",
            "Epoch 9/30\n",
            "326/326 [==============================] - 207s 634ms/step - loss: 0.2877 - accuracy: 0.9047\n",
            "Epoch 10/30\n",
            "326/326 [==============================] - 207s 633ms/step - loss: 0.2613 - accuracy: 0.9143\n",
            "Epoch 11/30\n",
            "326/326 [==============================] - 207s 633ms/step - loss: 0.2336 - accuracy: 0.9261\n",
            "Epoch 12/30\n",
            "326/326 [==============================] - 207s 633ms/step - loss: 0.2193 - accuracy: 0.9285\n",
            "Epoch 13/30\n",
            "326/326 [==============================] - 207s 634ms/step - loss: 0.1929 - accuracy: 0.9371\n",
            "Epoch 14/30\n",
            "326/326 [==============================] - 207s 633ms/step - loss: 0.1785 - accuracy: 0.9423\n",
            "Epoch 15/30\n",
            "326/326 [==============================] - 207s 633ms/step - loss: 0.1646 - accuracy: 0.9461\n",
            "Epoch 16/30\n",
            "326/326 [==============================] - 207s 633ms/step - loss: 0.1664 - accuracy: 0.9434\n",
            "Epoch 17/30\n",
            "326/326 [==============================] - 207s 633ms/step - loss: 0.1459 - accuracy: 0.9517\n",
            "Epoch 18/30\n",
            "326/326 [==============================] - 207s 634ms/step - loss: 0.1329 - accuracy: 0.9557\n",
            "Epoch 19/30\n",
            "326/326 [==============================] - 207s 633ms/step - loss: 0.1317 - accuracy: 0.9564\n",
            "Epoch 20/30\n",
            "326/326 [==============================] - 207s 633ms/step - loss: 0.1184 - accuracy: 0.9620\n",
            "Epoch 21/30\n",
            "326/326 [==============================] - 207s 633ms/step - loss: 0.1161 - accuracy: 0.9619\n",
            "Epoch 22/30\n",
            "326/326 [==============================] - 207s 633ms/step - loss: 0.1035 - accuracy: 0.9663\n",
            "Epoch 23/30\n",
            "326/326 [==============================] - 207s 633ms/step - loss: 0.1123 - accuracy: 0.9644\n",
            "Epoch 24/30\n",
            "326/326 [==============================] - 207s 632ms/step - loss: 0.1024 - accuracy: 0.9671\n",
            "Epoch 25/30\n",
            "326/326 [==============================] - 207s 633ms/step - loss: 0.0968 - accuracy: 0.9692\n",
            "Epoch 26/30\n",
            "326/326 [==============================] - 207s 633ms/step - loss: 0.0926 - accuracy: 0.9703\n",
            "Epoch 27/30\n",
            "326/326 [==============================] - 207s 633ms/step - loss: 0.0865 - accuracy: 0.9709\n",
            "Epoch 28/30\n",
            "326/326 [==============================] - 207s 633ms/step - loss: 0.0714 - accuracy: 0.9769\n",
            "Epoch 29/30\n",
            "326/326 [==============================] - 207s 633ms/step - loss: 0.0741 - accuracy: 0.9756\n",
            "Epoch 30/30\n",
            "326/326 [==============================] - 207s 633ms/step - loss: 0.0834 - accuracy: 0.9715\n"
          ]
        }
      ]
    },
    {
      "cell_type": "code",
      "source": [
        "pred1 = model_swin_large_224.predict(test_generator)"
      ],
      "metadata": {
        "id": "mkDo1GGWDOfn"
      },
      "execution_count": null,
      "outputs": []
    },
    {
      "cell_type": "code",
      "source": [
        "\"\"\"pred2 = effieNetB2.predict(test_generator) \n",
        "pred3 = effieNetV2L.predict(test_generator)\"\"\""
      ],
      "metadata": {
        "id": "nR0o2YstesAw"
      },
      "execution_count": null,
      "outputs": []
    },
    {
      "cell_type": "code",
      "source": [
        "pred_2 = effieNetB2.predict(test_generator)\n",
        "pred_3 = effieNetV2L.predict(test_generator)"
      ],
      "metadata": {
        "id": "-zKG5y7KPl9Q"
      },
      "execution_count": null,
      "outputs": []
    },
    {
      "cell_type": "code",
      "source": [
        "predict4 = model_swin_tiny_224.predict(test_generator)"
      ],
      "metadata": {
        "id": "lMtR86doCkFW"
      },
      "execution_count": null,
      "outputs": []
    },
    {
      "cell_type": "code",
      "source": [
        "pred5 = effieNetB2_t.predict(test_generator)\n",
        "pred6 = effieNetV2L_t.predict(test_generator)"
      ],
      "metadata": {
        "id": "02jv6buFFHig"
      },
      "execution_count": null,
      "outputs": []
    },
    {
      "cell_type": "code",
      "source": [
        "pred7 = model_swin_tiny_224_t.predict(test_generator)"
      ],
      "metadata": {
        "id": "3ZtWsLK5R8FE"
      },
      "execution_count": null,
      "outputs": []
    },
    {
      "cell_type": "code",
      "source": [
        "import pandas as pd\n",
        "pred_data = pd.read_csv('/content/predict.csv').drop(['Unnamed: 0'],axis=1)"
      ],
      "metadata": {
        "id": "_v4ddo7byUZ6"
      },
      "execution_count": null,
      "outputs": []
    },
    {
      "cell_type": "code",
      "source": [
        "predict = (pred_data.values*6 + pred7)/7"
      ],
      "metadata": {
        "id": "jgkG3pRByfpZ"
      },
      "execution_count": null,
      "outputs": []
    },
    {
      "cell_type": "code",
      "execution_count": null,
      "metadata": {
        "id": "_EKGHSQPuGWu"
      },
      "outputs": [],
      "source": [
        "argpred = tf.math.argmax(predict, axis=1)"
      ]
    },
    {
      "cell_type": "code",
      "source": [
        "pd.DataFrame(predict).to_csv('tmp.csv')"
      ],
      "metadata": {
        "id": "yRthBZ3b0RDX"
      },
      "execution_count": null,
      "outputs": []
    },
    {
      "cell_type": "code",
      "execution_count": null,
      "metadata": {
        "colab": {
          "base_uri": "https://localhost:8080/"
        },
        "id": "GGRECruzuY60",
        "outputId": "bd0cc510-96cb-43b6-8f72-acac113cf672"
      },
      "outputs": [
        {
          "output_type": "stream",
          "name": "stdout",
          "text": [
            "{0: 'bacterial_leaf_blight', 1: 'bacterial_leaf_streak', 2: 'bacterial_panicle_blight', 3: 'blast', 4: 'brown_spot', 5: 'dead_heart', 6: 'downy_mildew', 7: 'hispa', 8: 'normal', 9: 'tungro'}\n"
          ]
        }
      ],
      "source": [
        "import pandas as pd\n",
        "\n",
        "data = []\n",
        "label_dic = {}\n",
        "for e, i in enumerate(list(train_generator.class_indices)):\n",
        "  label_dic[e] = i\n",
        "print(label_dic)\n",
        "for i in range(200001, 200001+len(argpred)):\n",
        "  data.append((str(i)+'.jpg', label_dic[int(argpred[i-200001])]))\n",
        "submission_df = pd.DataFrame(data, columns=['image_id','label'])\n",
        "\n",
        "submission_df.to_csv(\"Submission.csv\",index=False)"
      ]
    },
    {
      "cell_type": "code",
      "source": [],
      "metadata": {
        "id": "SbKxrs6Ekjug"
      },
      "execution_count": null,
      "outputs": []
    },
    {
      "cell_type": "code",
      "source": [
        "\"\"\"import matplotlib.pyplot as plt\n",
        "batch = next(train_generator)\n",
        "images, labels = batch[0], batch[1] # 0번 이미지데이터 1번 레이블\n",
        "print(labels[:10])\n",
        "plt.figure(figsize=(16,8))\n",
        "for i in range(32) :\n",
        "    ax = plt.subplot(4,8,i+1)\n",
        "    plt.imshow(images[i])\n",
        "    plt.axis(\"off\")\n",
        "plt.tight_layout()\n",
        "plt.show()\"\"\""
      ],
      "metadata": {
        "id": "OCAANV043_uv"
      },
      "execution_count": null,
      "outputs": []
    }
  ],
  "metadata": {
    "accelerator": "GPU",
    "colab": {
      "collapsed_sections": [],
      "machine_shape": "hm",
      "provenance": [],
      "mount_file_id": "12pq5mk0TwQ4BCIWUfXnXbNT2JuT7hQoY",
      "authorship_tag": "ABX9TyOgTsBp91+XcDaiy+d1tSZY",
      "include_colab_link": true
    },
    "gpuClass": "standard",
    "kernelspec": {
      "display_name": "Python 3",
      "name": "python3"
    },
    "language_info": {
      "name": "python"
    }
  },
  "nbformat": 4,
  "nbformat_minor": 0
}
